{
 "cells": [
  {
   "cell_type": "code",
   "execution_count": 1,
   "metadata": {},
   "outputs": [],
   "source": [
    "import pandas as pd\n",
    "data = pd.read_csv('patients.csv',sep=\",\",error_bad_lines=False)"
   ]
  },
  {
   "cell_type": "markdown",
   "metadata": {},
   "source": [
    "# Remove the Errors"
   ]
  },
  {
   "cell_type": "markdown",
   "metadata": {},
   "source": [
    "## Select age is bigger than 0"
   ]
  },
  {
   "cell_type": "code",
   "execution_count": 2,
   "metadata": {},
   "outputs": [],
   "source": [
    "data = data[data['age'] > 0]"
   ]
  },
  {
   "cell_type": "code",
   "execution_count": 3,
   "metadata": {
    "scrolled": true
   },
   "outputs": [
    {
     "data": {
      "text/html": [
       "<div>\n",
       "<style scoped>\n",
       "    .dataframe tbody tr th:only-of-type {\n",
       "        vertical-align: middle;\n",
       "    }\n",
       "\n",
       "    .dataframe tbody tr th {\n",
       "        vertical-align: top;\n",
       "    }\n",
       "\n",
       "    .dataframe thead th {\n",
       "        text-align: right;\n",
       "    }\n",
       "</style>\n",
       "<table border=\"1\" class=\"dataframe\">\n",
       "  <thead>\n",
       "    <tr style=\"text-align: right;\">\n",
       "      <th></th>\n",
       "      <th>patient_id</th>\n",
       "      <th>cancer_type</th>\n",
       "      <th>age</th>\n",
       "      <th>height(in)</th>\n",
       "      <th>primary_site</th>\n",
       "      <th>sex</th>\n",
       "      <th>medication</th>\n",
       "    </tr>\n",
       "  </thead>\n",
       "  <tbody>\n",
       "    <tr>\n",
       "      <th>0</th>\n",
       "      <td>5384</td>\n",
       "      <td>blood</td>\n",
       "      <td>44</td>\n",
       "      <td>14</td>\n",
       "      <td>Hodgkin Lymphoma</td>\n",
       "      <td>NaN</td>\n",
       "      <td>Dabrafenib</td>\n",
       "    </tr>\n",
       "    <tr>\n",
       "      <th>1</th>\n",
       "      <td>6599</td>\n",
       "      <td>blood</td>\n",
       "      <td>77</td>\n",
       "      <td>12</td>\n",
       "      <td>Hodgkin Lymphoma</td>\n",
       "      <td>NaN</td>\n",
       "      <td>hydrocodone</td>\n",
       "    </tr>\n",
       "    <tr>\n",
       "      <th>2</th>\n",
       "      <td>7979</td>\n",
       "      <td>brain</td>\n",
       "      <td>64</td>\n",
       "      <td>42</td>\n",
       "      <td>Brain Tumor</td>\n",
       "      <td>female</td>\n",
       "      <td>oxycodone</td>\n",
       "    </tr>\n",
       "    <tr>\n",
       "      <th>3</th>\n",
       "      <td>3498</td>\n",
       "      <td>colon</td>\n",
       "      <td>57</td>\n",
       "      <td>10</td>\n",
       "      <td>colorectal cancer</td>\n",
       "      <td>NaN</td>\n",
       "      <td>Bevacizumb</td>\n",
       "    </tr>\n",
       "    <tr>\n",
       "      <th>4</th>\n",
       "      <td>3395</td>\n",
       "      <td>cervix</td>\n",
       "      <td>20</td>\n",
       "      <td>1</td>\n",
       "      <td>cervical cancer</td>\n",
       "      <td>female</td>\n",
       "      <td>Amifostine</td>\n",
       "    </tr>\n",
       "    <tr>\n",
       "      <th>5</th>\n",
       "      <td>2626</td>\n",
       "      <td>melanoma</td>\n",
       "      <td>76</td>\n",
       "      <td>55</td>\n",
       "      <td>Skin of scalp and neck</td>\n",
       "      <td>female</td>\n",
       "      <td>oxycodone</td>\n",
       "    </tr>\n",
       "    <tr>\n",
       "      <th>6</th>\n",
       "      <td>4562</td>\n",
       "      <td>cervix</td>\n",
       "      <td>32</td>\n",
       "      <td>65</td>\n",
       "      <td>cervical cancer</td>\n",
       "      <td>male</td>\n",
       "      <td>Daratumumab</td>\n",
       "    </tr>\n",
       "    <tr>\n",
       "      <th>7</th>\n",
       "      <td>2382</td>\n",
       "      <td>colon</td>\n",
       "      <td>73</td>\n",
       "      <td>69</td>\n",
       "      <td>colorectal cancer</td>\n",
       "      <td>female</td>\n",
       "      <td>Bevacizumb</td>\n",
       "    </tr>\n",
       "    <tr>\n",
       "      <th>8</th>\n",
       "      <td>4368</td>\n",
       "      <td>kidney</td>\n",
       "      <td>98</td>\n",
       "      <td>64</td>\n",
       "      <td>kidney cancer</td>\n",
       "      <td>male</td>\n",
       "      <td>Dasatinib</td>\n",
       "    </tr>\n",
       "    <tr>\n",
       "      <th>9</th>\n",
       "      <td>9985</td>\n",
       "      <td>blood</td>\n",
       "      <td>83</td>\n",
       "      <td>48</td>\n",
       "      <td>Hodgkin Lymphoma</td>\n",
       "      <td>NaN</td>\n",
       "      <td>Dasatinib</td>\n",
       "    </tr>\n",
       "  </tbody>\n",
       "</table>\n",
       "</div>"
      ],
      "text/plain": [
       "   patient_id cancer_type  age  height(in)            primary_site     sex  \\\n",
       "0        5384       blood   44          14        Hodgkin Lymphoma     NaN   \n",
       "1        6599       blood   77          12        Hodgkin Lymphoma     NaN   \n",
       "2        7979       brain   64          42             Brain Tumor  female   \n",
       "3        3498       colon   57          10       colorectal cancer     NaN   \n",
       "4        3395      cervix   20           1         cervical cancer  female   \n",
       "5        2626    melanoma   76          55  Skin of scalp and neck  female   \n",
       "6        4562      cervix   32          65         cervical cancer    male   \n",
       "7        2382       colon   73          69       colorectal cancer  female   \n",
       "8        4368      kidney   98          64           kidney cancer    male   \n",
       "9        9985       blood   83          48        Hodgkin Lymphoma     NaN   \n",
       "\n",
       "    medication  \n",
       "0   Dabrafenib  \n",
       "1  hydrocodone  \n",
       "2    oxycodone  \n",
       "3   Bevacizumb  \n",
       "4   Amifostine  \n",
       "5    oxycodone  \n",
       "6  Daratumumab  \n",
       "7   Bevacizumb  \n",
       "8    Dasatinib  \n",
       "9    Dasatinib  "
      ]
     },
     "execution_count": 3,
     "metadata": {},
     "output_type": "execute_result"
    }
   ],
   "source": [
    "data.head(10)"
   ]
  },
  {
   "cell_type": "code",
   "execution_count": 4,
   "metadata": {},
   "outputs": [
    {
     "data": {
      "text/plain": [
       "{'armpit',\n",
       " 'blood',\n",
       " 'bone',\n",
       " 'brain',\n",
       " 'breast',\n",
       " 'buttock',\n",
       " 'cervix',\n",
       " 'colon',\n",
       " 'feet',\n",
       " 'heart',\n",
       " 'hypopharyngeal cancer',\n",
       " 'kidney',\n",
       " 'liver',\n",
       " 'lung',\n",
       " 'melanoma',\n",
       " 'ovary',\n",
       " 'prostate',\n",
       " 'teeth',\n",
       " 'thyroid',\n",
       " 'tongue'}"
      ]
     },
     "execution_count": 4,
     "metadata": {},
     "output_type": "execute_result"
    }
   ],
   "source": [
    "set(data['cancer_type'])"
   ]
  },
  {
   "cell_type": "code",
   "execution_count": 5,
   "metadata": {},
   "outputs": [],
   "source": [
    "# delete ovary with male\n",
    "index2 = data[(data['sex'] == 'male') & (data['cancer_type'] == 'ovary')].index\n",
    "data.drop(index2 , inplace=True)"
   ]
  },
  {
   "cell_type": "code",
   "execution_count": 6,
   "metadata": {},
   "outputs": [
    {
     "data": {
      "text/plain": [
       "Int64Index([   75,    90,    92,   127,   143,   169,   217,   227,   242,\n",
       "              292,\n",
       "            ...\n",
       "             9708,  9713,  9756,  9758,  9777,  9907,  9960,  9963, 10055,\n",
       "            10081],\n",
       "           dtype='int64', length=260)"
      ]
     },
     "execution_count": 6,
     "metadata": {},
     "output_type": "execute_result"
    }
   ],
   "source": [
    "index2"
   ]
  },
  {
   "cell_type": "code",
   "execution_count": 7,
   "metadata": {},
   "outputs": [],
   "source": [
    "# delete cervix to with male\n",
    "index3 = data[(data['sex'] == 'male') & (data['cancer_type'] == 'cervix')].index"
   ]
  },
  {
   "cell_type": "code",
   "execution_count": 8,
   "metadata": {},
   "outputs": [
    {
     "data": {
      "text/plain": [
       "Int64Index([   6,   35,  154,  182,  245,  263,  277,  294,  308,  330,\n",
       "            ...\n",
       "            9486, 9499, 9514, 9531, 9586, 9588, 9619, 9863, 9879, 9919],\n",
       "           dtype='int64', length=249)"
      ]
     },
     "execution_count": 8,
     "metadata": {},
     "output_type": "execute_result"
    }
   ],
   "source": [
    "index3"
   ]
  },
  {
   "cell_type": "code",
   "execution_count": 9,
   "metadata": {},
   "outputs": [],
   "source": [
    "data.drop(index3, inplace = True)"
   ]
  },
  {
   "cell_type": "code",
   "execution_count": 10,
   "metadata": {},
   "outputs": [
    {
     "data": {
      "text/plain": [
       "(9493, 7)"
      ]
     },
     "execution_count": 10,
     "metadata": {},
     "output_type": "execute_result"
    }
   ],
   "source": [
    "data.shape"
   ]
  },
  {
   "cell_type": "code",
   "execution_count": 11,
   "metadata": {},
   "outputs": [],
   "source": [
    "# drop prostate with female\n",
    "index4 = data[(data['sex'] == 'female') & (data['cancer_type'] == 'prostate')].index"
   ]
  },
  {
   "cell_type": "code",
   "execution_count": 12,
   "metadata": {},
   "outputs": [],
   "source": [
    "data.drop(index4,inplace = True)"
   ]
  },
  {
   "cell_type": "code",
   "execution_count": 13,
   "metadata": {},
   "outputs": [
    {
     "data": {
      "text/plain": [
       "(9240, 7)"
      ]
     },
     "execution_count": 13,
     "metadata": {},
     "output_type": "execute_result"
    }
   ],
   "source": [
    "data.shape"
   ]
  },
  {
   "cell_type": "code",
   "execution_count": 14,
   "metadata": {},
   "outputs": [
    {
     "name": "stdout",
     "output_type": "stream",
     "text": [
      "247\n",
      "251\n"
     ]
    }
   ],
   "source": [
    "# breast with male\n",
    "\n",
    "# data['sex'] == 'male'&& data['cancer_type'] == 'breast'\n",
    "index_male_breast = data[(data['sex'] == 'male') & (data['cancer_type'] == 'breast')].index\n",
    "print(len(index_male_breast))\n",
    "\n",
    "index_female_breast = data[(data['sex'] == 'female') & (data['cancer_type'] == 'breast')].index\n",
    "print(len(index_female_breast))"
   ]
  },
  {
   "cell_type": "markdown",
   "metadata": {},
   "source": [
    "Well, the data has some bias since we know that female has higher risk to have breast cancers, but we can see from data that amount of patiene from two groups has the same amount that has breast cancers. "
   ]
  },
  {
   "cell_type": "code",
   "execution_count": 15,
   "metadata": {},
   "outputs": [
    {
     "data": {
      "text/plain": [
       "(42.46559633027523, 23.769293158042373)"
      ]
     },
     "execution_count": 15,
     "metadata": {},
     "output_type": "execute_result"
    }
   ],
   "source": [
    "height_1 = data[data['age'] < 10]['height(in)']\n",
    "d1 = data[(data['age'] < 10) & ( data['height(in)'] > (height_1.mean()-height_1.std()) ) &\n",
    "         (data['height(in)'] < (height_1.mean()+height_1.std()))]\n",
    "\n",
    "height_1.mean(),height_1.std()"
   ]
  },
  {
   "cell_type": "code",
   "execution_count": 16,
   "metadata": {},
   "outputs": [
    {
     "data": {
      "text/html": [
       "<div>\n",
       "<style scoped>\n",
       "    .dataframe tbody tr th:only-of-type {\n",
       "        vertical-align: middle;\n",
       "    }\n",
       "\n",
       "    .dataframe tbody tr th {\n",
       "        vertical-align: top;\n",
       "    }\n",
       "\n",
       "    .dataframe thead th {\n",
       "        text-align: right;\n",
       "    }\n",
       "</style>\n",
       "<table border=\"1\" class=\"dataframe\">\n",
       "  <thead>\n",
       "    <tr style=\"text-align: right;\">\n",
       "      <th></th>\n",
       "      <th>patient_id</th>\n",
       "      <th>cancer_type</th>\n",
       "      <th>age</th>\n",
       "      <th>height(in)</th>\n",
       "      <th>primary_site</th>\n",
       "      <th>sex</th>\n",
       "      <th>medication</th>\n",
       "    </tr>\n",
       "  </thead>\n",
       "  <tbody>\n",
       "    <tr>\n",
       "      <th>14</th>\n",
       "      <td>2444</td>\n",
       "      <td>breast</td>\n",
       "      <td>8</td>\n",
       "      <td>66</td>\n",
       "      <td>Breast, NOS</td>\n",
       "      <td>male</td>\n",
       "      <td>Dacogen</td>\n",
       "    </tr>\n",
       "    <tr>\n",
       "      <th>33</th>\n",
       "      <td>9518</td>\n",
       "      <td>brain</td>\n",
       "      <td>6</td>\n",
       "      <td>36</td>\n",
       "      <td>Brain Tumor</td>\n",
       "      <td>NaN</td>\n",
       "      <td>codeine</td>\n",
       "    </tr>\n",
       "    <tr>\n",
       "      <th>36</th>\n",
       "      <td>2711</td>\n",
       "      <td>liver</td>\n",
       "      <td>9</td>\n",
       "      <td>56</td>\n",
       "      <td>Hepatocellular carcinoma</td>\n",
       "      <td>male</td>\n",
       "      <td>Lenvatinib</td>\n",
       "    </tr>\n",
       "    <tr>\n",
       "      <th>48</th>\n",
       "      <td>8055</td>\n",
       "      <td>blood</td>\n",
       "      <td>8</td>\n",
       "      <td>58</td>\n",
       "      <td>Hodgkin Lymphoma</td>\n",
       "      <td>female</td>\n",
       "      <td>Daratumumab</td>\n",
       "    </tr>\n",
       "    <tr>\n",
       "      <th>63</th>\n",
       "      <td>4725</td>\n",
       "      <td>lung</td>\n",
       "      <td>2</td>\n",
       "      <td>43</td>\n",
       "      <td>Non Small Cell Lung Cancer</td>\n",
       "      <td>NaN</td>\n",
       "      <td>Lorlatinb</td>\n",
       "    </tr>\n",
       "  </tbody>\n",
       "</table>\n",
       "</div>"
      ],
      "text/plain": [
       "    patient_id cancer_type  age  height(in)                primary_site  \\\n",
       "14        2444      breast    8          66                 Breast, NOS   \n",
       "33        9518       brain    6          36                 Brain Tumor   \n",
       "36        2711       liver    9          56    Hepatocellular carcinoma   \n",
       "48        8055       blood    8          58            Hodgkin Lymphoma   \n",
       "63        4725        lung    2          43  Non Small Cell Lung Cancer   \n",
       "\n",
       "       sex   medication  \n",
       "14    male      Dacogen  \n",
       "33     NaN      codeine  \n",
       "36    male   Lenvatinib  \n",
       "48  female  Daratumumab  \n",
       "63     NaN    Lorlatinb  "
      ]
     },
     "execution_count": 16,
     "metadata": {},
     "output_type": "execute_result"
    }
   ],
   "source": [
    "d1.head()"
   ]
  },
  {
   "cell_type": "code",
   "execution_count": 17,
   "metadata": {},
   "outputs": [
    {
     "data": {
      "text/plain": [
       "(41.16735966735967, 24.12950782465526)"
      ]
     },
     "execution_count": 17,
     "metadata": {},
     "output_type": "execute_result"
    }
   ],
   "source": [
    "height_2 = data[(data['age'] >= 10) & (data['age'] < 20)]['height(in)']\n",
    "d2 = data[(data['age'] >= 10) & (data['age'] < 20) &\n",
    "          ( data['height(in)'] > (height_2.mean()-height_2.std()) ) &\n",
    "         (data['height(in)'] < (height_2.mean()+height_2.std()))]\n",
    "height_2.mean(),height_2.std()"
   ]
  },
  {
   "cell_type": "code",
   "execution_count": 18,
   "metadata": {},
   "outputs": [
    {
     "data": {
      "text/html": [
       "<div>\n",
       "<style scoped>\n",
       "    .dataframe tbody tr th:only-of-type {\n",
       "        vertical-align: middle;\n",
       "    }\n",
       "\n",
       "    .dataframe tbody tr th {\n",
       "        vertical-align: top;\n",
       "    }\n",
       "\n",
       "    .dataframe thead th {\n",
       "        text-align: right;\n",
       "    }\n",
       "</style>\n",
       "<table border=\"1\" class=\"dataframe\">\n",
       "  <thead>\n",
       "    <tr style=\"text-align: right;\">\n",
       "      <th></th>\n",
       "      <th>patient_id</th>\n",
       "      <th>cancer_type</th>\n",
       "      <th>age</th>\n",
       "      <th>height(in)</th>\n",
       "      <th>primary_site</th>\n",
       "      <th>sex</th>\n",
       "      <th>medication</th>\n",
       "    </tr>\n",
       "  </thead>\n",
       "  <tbody>\n",
       "    <tr>\n",
       "      <th>10</th>\n",
       "      <td>6116</td>\n",
       "      <td>thyroid</td>\n",
       "      <td>49</td>\n",
       "      <td>60</td>\n",
       "      <td>Thyroid gland</td>\n",
       "      <td>male</td>\n",
       "      <td>Dabrafenib</td>\n",
       "    </tr>\n",
       "    <tr>\n",
       "      <th>17</th>\n",
       "      <td>3664</td>\n",
       "      <td>lung</td>\n",
       "      <td>26</td>\n",
       "      <td>42</td>\n",
       "      <td>Non Small Cell Lung Cancer</td>\n",
       "      <td>male</td>\n",
       "      <td>Lorlatinb</td>\n",
       "    </tr>\n",
       "    <tr>\n",
       "      <th>25</th>\n",
       "      <td>8444</td>\n",
       "      <td>cervix</td>\n",
       "      <td>45</td>\n",
       "      <td>35</td>\n",
       "      <td>cervical cancer</td>\n",
       "      <td>female</td>\n",
       "      <td>Dabrafenib</td>\n",
       "    </tr>\n",
       "    <tr>\n",
       "      <th>29</th>\n",
       "      <td>7130</td>\n",
       "      <td>brain</td>\n",
       "      <td>41</td>\n",
       "      <td>44</td>\n",
       "      <td>Brain Tumor</td>\n",
       "      <td>NaN</td>\n",
       "      <td>codeine</td>\n",
       "    </tr>\n",
       "    <tr>\n",
       "      <th>31</th>\n",
       "      <td>2951</td>\n",
       "      <td>blood</td>\n",
       "      <td>24</td>\n",
       "      <td>28</td>\n",
       "      <td>Hodgkin Lymphoma</td>\n",
       "      <td>female</td>\n",
       "      <td>Acetaminophen</td>\n",
       "    </tr>\n",
       "  </tbody>\n",
       "</table>\n",
       "</div>"
      ],
      "text/plain": [
       "    patient_id cancer_type  age  height(in)                primary_site  \\\n",
       "10        6116     thyroid   49          60               Thyroid gland   \n",
       "17        3664        lung   26          42  Non Small Cell Lung Cancer   \n",
       "25        8444      cervix   45          35             cervical cancer   \n",
       "29        7130       brain   41          44                 Brain Tumor   \n",
       "31        2951       blood   24          28            Hodgkin Lymphoma   \n",
       "\n",
       "       sex     medication  \n",
       "10    male     Dabrafenib  \n",
       "17    male      Lorlatinb  \n",
       "25  female     Dabrafenib  \n",
       "29     NaN        codeine  \n",
       "31  female  Acetaminophen  "
      ]
     },
     "execution_count": 18,
     "metadata": {},
     "output_type": "execute_result"
    }
   ],
   "source": [
    "height_3 = data[(data['age'] >= 20) & (data['age'] < 60)]['height(in)']\n",
    "\n",
    "d3 = data[(data['age'] >= 20) & (data['age'] < 60) &\n",
    "          ( data['height(in)'] > (height_3.mean()-height_3.std()) ) &\n",
    "         (data['height(in)'] < (height_3.mean()+height_3.std()))]\n",
    "\n",
    "d3.head()"
   ]
  },
  {
   "cell_type": "code",
   "execution_count": 19,
   "metadata": {
    "scrolled": true
   },
   "outputs": [
    {
     "data": {
      "text/plain": [
       "(42.95544416597048, 24.1218868187257)"
      ]
     },
     "execution_count": 19,
     "metadata": {},
     "output_type": "execute_result"
    }
   ],
   "source": [
    "height_3.mean(),height_3.std()"
   ]
  },
  {
   "cell_type": "markdown",
   "metadata": {},
   "source": [
    "We can see that the mean is problematic when we have the sample age between 20 and 60, the sample is bias"
   ]
  },
  {
   "cell_type": "code",
   "execution_count": 20,
   "metadata": {},
   "outputs": [
    {
     "data": {
      "text/html": [
       "<div>\n",
       "<style scoped>\n",
       "    .dataframe tbody tr th:only-of-type {\n",
       "        vertical-align: middle;\n",
       "    }\n",
       "\n",
       "    .dataframe tbody tr th {\n",
       "        vertical-align: top;\n",
       "    }\n",
       "\n",
       "    .dataframe thead th {\n",
       "        text-align: right;\n",
       "    }\n",
       "</style>\n",
       "<table border=\"1\" class=\"dataframe\">\n",
       "  <thead>\n",
       "    <tr style=\"text-align: right;\">\n",
       "      <th></th>\n",
       "      <th>patient_id</th>\n",
       "      <th>cancer_type</th>\n",
       "      <th>age</th>\n",
       "      <th>height(in)</th>\n",
       "      <th>primary_site</th>\n",
       "      <th>sex</th>\n",
       "      <th>medication</th>\n",
       "    </tr>\n",
       "  </thead>\n",
       "  <tbody>\n",
       "    <tr>\n",
       "      <th>2</th>\n",
       "      <td>7979</td>\n",
       "      <td>brain</td>\n",
       "      <td>64</td>\n",
       "      <td>42</td>\n",
       "      <td>Brain Tumor</td>\n",
       "      <td>female</td>\n",
       "      <td>oxycodone</td>\n",
       "    </tr>\n",
       "    <tr>\n",
       "      <th>5</th>\n",
       "      <td>2626</td>\n",
       "      <td>melanoma</td>\n",
       "      <td>76</td>\n",
       "      <td>55</td>\n",
       "      <td>Skin of scalp and neck</td>\n",
       "      <td>female</td>\n",
       "      <td>oxycodone</td>\n",
       "    </tr>\n",
       "    <tr>\n",
       "      <th>8</th>\n",
       "      <td>4368</td>\n",
       "      <td>kidney</td>\n",
       "      <td>98</td>\n",
       "      <td>64</td>\n",
       "      <td>kidney cancer</td>\n",
       "      <td>male</td>\n",
       "      <td>Dasatinib</td>\n",
       "    </tr>\n",
       "    <tr>\n",
       "      <th>9</th>\n",
       "      <td>9985</td>\n",
       "      <td>blood</td>\n",
       "      <td>83</td>\n",
       "      <td>48</td>\n",
       "      <td>Hodgkin Lymphoma</td>\n",
       "      <td>NaN</td>\n",
       "      <td>Dasatinib</td>\n",
       "    </tr>\n",
       "    <tr>\n",
       "      <th>11</th>\n",
       "      <td>3204</td>\n",
       "      <td>prostate</td>\n",
       "      <td>64</td>\n",
       "      <td>63</td>\n",
       "      <td>prostate cancer</td>\n",
       "      <td>male</td>\n",
       "      <td>Dacarbazine</td>\n",
       "    </tr>\n",
       "  </tbody>\n",
       "</table>\n",
       "</div>"
      ],
      "text/plain": [
       "    patient_id cancer_type  age  height(in)            primary_site     sex  \\\n",
       "2         7979       brain   64          42             Brain Tumor  female   \n",
       "5         2626    melanoma   76          55  Skin of scalp and neck  female   \n",
       "8         4368      kidney   98          64           kidney cancer    male   \n",
       "9         9985       blood   83          48        Hodgkin Lymphoma     NaN   \n",
       "11        3204    prostate   64          63         prostate cancer    male   \n",
       "\n",
       "     medication  \n",
       "2     oxycodone  \n",
       "5     oxycodone  \n",
       "8     Dasatinib  \n",
       "9     Dasatinib  \n",
       "11  Dacarbazine  "
      ]
     },
     "execution_count": 20,
     "metadata": {},
     "output_type": "execute_result"
    }
   ],
   "source": [
    "height_4 = data[(data['age'] >= 60)]['height(in)']\n",
    "\n",
    "d4 = data[(data['age'] >= 60) &\n",
    "          ( data['height(in)'] > (height_4.mean()-height_4.std()) ) &\n",
    "         (data['height(in)'] < (height_4.mean()+height_4.std()))]\n",
    "\n",
    "d4.head()"
   ]
  },
  {
   "cell_type": "code",
   "execution_count": 21,
   "metadata": {
    "scrolled": true
   },
   "outputs": [
    {
     "data": {
      "text/plain": [
       "(41.516120576671035, 24.16262394821937)"
      ]
     },
     "execution_count": 21,
     "metadata": {},
     "output_type": "execute_result"
    }
   ],
   "source": [
    "height_4.mean(),height_4.std()"
   ]
  },
  {
   "cell_type": "markdown",
   "metadata": {},
   "source": [
    "We also can see that the average height is still around 41"
   ]
  },
  {
   "cell_type": "code",
   "execution_count": 22,
   "metadata": {},
   "outputs": [],
   "source": [
    "d=pd.concat([d1,d2,d3,d4])"
   ]
  },
  {
   "cell_type": "code",
   "execution_count": 23,
   "metadata": {},
   "outputs": [
    {
     "data": {
      "text/plain": [
       "(5398, 7)"
      ]
     },
     "execution_count": 23,
     "metadata": {},
     "output_type": "execute_result"
    }
   ],
   "source": [
    "d.shape"
   ]
  },
  {
   "cell_type": "code",
   "execution_count": 66,
   "metadata": {},
   "outputs": [
    {
     "data": {
      "image/png": "[encoded data removed]",
      "text/plain": [
       "<Figure size 432x288 with 1 Axes>"
      ]
     },
     "metadata": {
      "needs_background": "light"
     },
     "output_type": "display_data"
    }
   ],
   "source": [
    "hist = d['height(in)'].hist(bins=3)"
   ]
  },
  {
   "cell_type": "markdown",
   "metadata": {},
   "source": [
    "# Construct train and test set"
   ]
  },
  {
   "cell_type": "code",
   "execution_count": 40,
   "metadata": {},
   "outputs": [],
   "source": [
    "# convert to catagorical of sex\n",
    "df_sex = pd.get_dummies(d['sex'])"
   ]
  },
  {
   "cell_type": "code",
   "execution_count": 41,
   "metadata": {},
   "outputs": [],
   "source": [
    "df_medication = pd.get_dummies(d['medication'])"
   ]
  },
  {
   "cell_type": "code",
   "execution_count": 42,
   "metadata": {},
   "outputs": [],
   "source": [
    "df_age = d['age']"
   ]
  },
  {
   "cell_type": "code",
   "execution_count": 43,
   "metadata": {},
   "outputs": [],
   "source": [
    "df_height = d['height(in)']"
   ]
  },
  {
   "cell_type": "markdown",
   "metadata": {},
   "source": [
    "# Predict the lung cancer"
   ]
  },
  {
   "cell_type": "code",
   "execution_count": 54,
   "metadata": {},
   "outputs": [],
   "source": [
    "df_y = (d['cancer_type'] == 'blood')"
   ]
  },
  {
   "cell_type": "code",
   "execution_count": 55,
   "metadata": {},
   "outputs": [],
   "source": [
    "df_X = pd.concat([df_sex, df_medication, df_age, df_height],axis = 1)"
   ]
  },
  {
   "cell_type": "code",
   "execution_count": 56,
   "metadata": {},
   "outputs": [],
   "source": [
    "from sklearn.model_selection import train_test_split"
   ]
  },
  {
   "cell_type": "code",
   "execution_count": 57,
   "metadata": {},
   "outputs": [],
   "source": [
    "X_train, X_test, y_train, y_test = train_test_split(\n",
    "...     df_X, df_y, test_size=0.33, random_state=42)"
   ]
  },
  {
   "cell_type": "markdown",
   "metadata": {},
   "source": [
    "# Using Random Forest Classifier"
   ]
  },
  {
   "cell_type": "code",
   "execution_count": 58,
   "metadata": {},
   "outputs": [],
   "source": [
    "from sklearn.ensemble import RandomForestClassifier\n",
    "classifier = RandomForestClassifier(n_estimators = 200, criterion = 'entropy', random_state = 0)"
   ]
  },
  {
   "cell_type": "code",
   "execution_count": 59,
   "metadata": {},
   "outputs": [
    {
     "data": {
      "text/plain": [
       "RandomForestClassifier(bootstrap=True, class_weight=None, criterion='entropy',\n",
       "            max_depth=None, max_features='auto', max_leaf_nodes=None,\n",
       "            min_impurity_decrease=0.0, min_impurity_split=None,\n",
       "            min_samples_leaf=1, min_samples_split=2,\n",
       "            min_weight_fraction_leaf=0.0, n_estimators=200, n_jobs=None,\n",
       "            oob_score=False, random_state=0, verbose=0, warm_start=False)"
      ]
     },
     "execution_count": 59,
     "metadata": {},
     "output_type": "execute_result"
    }
   ],
   "source": [
    "classifier.fit(X_train,y_train)"
   ]
  },
  {
   "cell_type": "code",
   "execution_count": 60,
   "metadata": {},
   "outputs": [],
   "source": [
    "y_score = classifier.predict(X_test)"
   ]
  },
  {
   "cell_type": "code",
   "execution_count": 61,
   "metadata": {},
   "outputs": [],
   "source": [
    "from sklearn import metrics"
   ]
  },
  {
   "cell_type": "code",
   "execution_count": 62,
   "metadata": {},
   "outputs": [],
   "source": [
    "fpr, tpr,_ = metrics.roc_curve(y_test,y_score)"
   ]
  },
  {
   "cell_type": "code",
   "execution_count": 63,
   "metadata": {},
   "outputs": [
    {
     "name": "stdout",
     "output_type": "stream",
     "text": [
      "0.4996691558748464\n"
     ]
    }
   ],
   "source": [
    "roc_auc = metrics.auc(fpr, tpr)\n",
    "print(roc_auc)"
   ]
  },
  {
   "cell_type": "markdown",
   "metadata": {},
   "source": [
    "We can observes that the data is overfitting, if we use the medication as the variable, we can have good predictions on the cancer type"
   ]
  },
  {
   "cell_type": "code",
   "execution_count": 38,
   "metadata": {},
   "outputs": [
    {
     "data": {
      "text/plain": [
       "(5398, 36)"
      ]
     },
     "execution_count": 38,
     "metadata": {},
     "output_type": "execute_result"
    }
   ],
   "source": [
    "df_X.shape"
   ]
  },
  {
   "cell_type": "code",
   "execution_count": null,
   "metadata": {},
   "outputs": [],
   "source": []
  }
 ],
 "metadata": {
  "kernelspec": {
   "display_name": "Python 3",
   "language": "python",
   "name": "python3"
  },
  "language_info": {
   "codemirror_mode": {
    "name": "ipython",
    "version": 3
   },
   "file_extension": ".py",
   "mimetype": "text/x-python",
   "name": "python",
   "nbconvert_exporter": "python",
   "pygments_lexer": "ipython3",
   "version": "3.7.1"
  }
 },
 "nbformat": 4,
 "nbformat_minor": 2
}
